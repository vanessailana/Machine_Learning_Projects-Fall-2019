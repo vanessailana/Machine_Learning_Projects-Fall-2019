{
 "cells": [
  {
   "cell_type": "code",
   "execution_count": 4,
   "metadata": {},
   "outputs": [
    {
     "name": "stdout",
     "output_type": "stream",
     "text": [
      "              business_id  features\n",
      "0  --9e1ONYQuAa-CB_Rrw7Tw       NaN\n",
      "1  -050d_XIor1NpCuWkbIVaQ       NaN\n",
      "2  -3zffZUHoY8bQjGfPSoBKQ       NaN\n",
      "3  -6h3K1hj0d4DRcZNUtHDuw       NaN\n",
      "4  -7XWJYkutqhIxLen7Grg1g       NaN\n"
     ]
    }
   ],
   "source": [
    "import pandas as pd\n",
    "\n",
    "train_df = pd.read_pickle(\"train_set.csv\")\n",
    "test_df  = pd.read_pickle(\"test_set.csv\")\n"
   ]
  },
  {
   "cell_type": "code",
   "execution_count": 15,
   "metadata": {},
   "outputs": [
    {
     "data": {
      "text/plain": [
       "array(['inside', 'food', 'outside', 'drink', 'menu'], dtype=object)"
      ]
     },
     "execution_count": 15,
     "metadata": {},
     "output_type": "execute_result"
    }
   ],
   "source": [
    "\n",
    "train_labels = pd.read_json('photo.json',lines=True)\n",
    "train_labels.label.unique()"
   ]
  },
  {
   "cell_type": "code",
   "execution_count": 16,
   "metadata": {},
   "outputs": [
    {
     "name": "stdout",
     "output_type": "stream",
     "text": [
      "Index(['caption', 'photo_id', 'business_id', 'label'], dtype='object')\n"
     ]
    }
   ],
   "source": [
    "print(train_labels.columns)"
   ]
  },
  {
   "cell_type": "code",
   "execution_count": 17,
   "metadata": {},
   "outputs": [
    {
     "data": {
      "text/plain": [
       "array(['', 'Outside', '\"last neighborhood bar in Vegas\"', ...,\n",
       "       'Asian fusion Scottsdale', 'Cocktails in Scottsdale',\n",
       "       'ZUCCHINI TRUFFLE MAC Our famous cheese sauce with black truffle and roasted mushrooms tossed with fresh, hand-spiraled Zoodles.'],\n",
       "      dtype=object)"
      ]
     },
     "execution_count": 17,
     "metadata": {},
     "output_type": "execute_result"
    }
   ],
   "source": [
    "train_labels.caption.unique()"
   ]
  },
  {
   "cell_type": "code",
   "execution_count": null,
   "metadata": {},
   "outputs": [],
   "source": []
  }
 ],
 "metadata": {
  "kernelspec": {
   "display_name": "Python 3",
   "language": "python",
   "name": "python3"
  },
  "language_info": {
   "codemirror_mode": {
    "name": "ipython",
    "version": 3
   },
   "file_extension": ".py",
   "mimetype": "text/x-python",
   "name": "python",
   "nbconvert_exporter": "python",
   "pygments_lexer": "ipython3",
   "version": "3.7.4"
  }
 },
 "nbformat": 4,
 "nbformat_minor": 2
}
