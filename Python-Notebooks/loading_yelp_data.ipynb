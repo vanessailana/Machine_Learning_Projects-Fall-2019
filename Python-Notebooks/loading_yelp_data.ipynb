{
 "cells": [
  {
   "cell_type": "code",
   "execution_count": 1,
   "metadata": {},
   "outputs": [],
   "source": [
    "import pandas as pd \n",
    "import os \n",
    "\n",
    "#global variable\n",
    "path='../Data/'\n"
   ]
  },
  {
   "cell_type": "markdown",
   "metadata": {},
   "source": [
    "<h1> Business Data </h1>"
   ]
  },
  {
   "cell_type": "code",
   "execution_count": 2,
   "metadata": {},
   "outputs": [
    {
     "name": "stdout",
     "output_type": "stream",
     "text": [
      "                          address  attributes attributes_AcceptsInsurance  \\\n",
      "0     2818 E Camino Acequia Drive         NaN                         NaN   \n",
      "1            30 Eglinton Avenue W         NaN                         NaN   \n",
      "2       10110 Johnston Rd, Ste 15         NaN                         NaN   \n",
      "3   15655 W Roosevelt St, Ste 237         NaN                         NaN   \n",
      "4  4209 Stuart Andrew Blvd, Ste F         NaN                         NaN   \n",
      "\n",
      "  attributes_AgesAllowed attributes_Alcohol  \\\n",
      "0                    NaN                NaN   \n",
      "1                    NaN        u'full_bar'   \n",
      "2                    NaN   u'beer_and_wine'   \n",
      "3                    NaN                NaN   \n",
      "4                    NaN                NaN   \n",
      "\n",
      "                                 attributes_Ambience attributes_BYOB  \\\n",
      "0                                                NaN             NaN   \n",
      "1  {'romantic': False, 'intimate': False, 'classy...             NaN   \n",
      "2  {'romantic': False, 'intimate': False, 'touris...             NaN   \n",
      "3                                                NaN             NaN   \n",
      "4                                                NaN             NaN   \n",
      "\n",
      "  attributes_BYOBCorkage attributes_BestNights attributes_BikeParking  ...  \\\n",
      "0                    NaN                   NaN                    NaN  ...   \n",
      "1                    NaN                   NaN                  False  ...   \n",
      "2                    NaN                   NaN                   True  ...   \n",
      "3                    NaN                   NaN                    NaN  ...   \n",
      "4                    NaN                   NaN                    NaN  ...   \n",
      "\n",
      "  hours_Tuesday hours_Wednesday is_open   latitude   longitude  \\\n",
      "0           NaN             NaN       0  33.522143 -112.018481   \n",
      "1       9:0-0:0         9:0-0:0       1  43.605499  -79.652289   \n",
      "2           NaN     17:30-21:30       1  35.092564  -80.859132   \n",
      "3      8:0-17:0        8:0-17:0       1  33.455613 -112.395596   \n",
      "4      7:0-23:0        7:0-23:0       1  35.190012  -80.887223   \n",
      "\n",
      "                              name postal_code review_count stars state  \n",
      "0       Arizona Biltmore Golf Club       85016            5   3.0    AZ  \n",
      "1       Emerald Chinese Restaurant     L5R 3E7          128   2.5    ON  \n",
      "2      Musashi Japanese Restaurant       28210          170   4.0    NC  \n",
      "3  Farmers Insurance - Paul Lorenz       85338            3   5.0    AZ  \n",
      "4              Queen City Plumbing       28217            4   4.0    NC  \n",
      "\n",
      "[5 rows x 60 columns]\n"
     ]
    },
    {
     "name": "stderr",
     "output_type": "stream",
     "text": [
      "/usr/local/Cellar/ipython/7.2.0/libexec/lib/python3.7/site-packages/IPython/core/interactiveshell.py:3020: DtypeWarning: Columns (6,28,31) have mixed types. Specify dtype option on import or set low_memory=False.\n",
      "  interactivity=interactivity, compiler=compiler, result=result)\n"
     ]
    }
   ],
   "source": [
    "business_data=pd.read_csv(path+'business.csv')\n",
    "print(business_data.head(5))\n",
    "\n"
   ]
  },
  {
   "cell_type": "markdown",
   "metadata": {},
   "source": [
    "<h1> User Data </h1>"
   ]
  },
  {
   "cell_type": "code",
   "execution_count": 3,
   "metadata": {},
   "outputs": [
    {
     "name": "stderr",
     "output_type": "stream",
     "text": [
      "/usr/local/Cellar/ipython/7.2.0/libexec/lib/python3.7/site-packages/IPython/core/interactiveshell.py:3020: DtypeWarning: Columns (16) have mixed types. Specify dtype option on import or set low_memory=False.\n",
      "  interactivity=interactivity, compiler=compiler, result=result)\n"
     ]
    },
    {
     "name": "stdout",
     "output_type": "stream",
     "text": [
      "         yelping_since  useful  compliment_photos  compliment_list  \\\n",
      "0  2013-10-08 23:11:33      84                  0                0   \n",
      "1  2013-02-21 22:29:06      48                  0                0   \n",
      "2  2013-10-04 00:16:10      28                  0                0   \n",
      "3  2014-05-22 15:57:30      30                  0                0   \n",
      "4  2013-10-23 07:02:50    1114                  5                1   \n",
      "\n",
      "   compliment_funny  compliment_plain  review_count  \\\n",
      "0                 1                 1            95   \n",
      "1                 1                 0            33   \n",
      "2                 0                 0            16   \n",
      "3                 0                 2            17   \n",
      "4                80                57           361   \n",
      "\n",
      "                                             friends  fans  compliment_note  \\\n",
      "0  c78V-rj8NQcQjOI8KP3UEA, alRMgPcngYSCJ5naFRBz5g...     5                1   \n",
      "1  kEBTgDvFX754S68FllfCaA, aB2DynOxNOJK9st2ZeGTPg...     4                0   \n",
      "2  4N-HU_T32hLENLntsNKNBg, pSY2vwWLgWfGVAAiKQzMng...     0                1   \n",
      "3  RZ6wS38wnlXyj-OOdTzBxA, l5jxZh1KsgI8rMunm-GN6A...     5                0   \n",
      "4  mbwrZ-RS76V1HoJ0bF_Geg, g64lOV39xSLRZO0aQQ6DeQ...    39               16   \n",
      "\n",
      "   ...  compliment_cute  average_stars                 user_id  \\\n",
      "0  ...                0           4.03  l6BmjZMeQD3rDxWUbiAiow   \n",
      "1  ...                0           3.63  4XChL029mKr5hydo79Ljxg   \n",
      "2  ...                0           3.71  bc8C_eETBWL0olvFSJJd0w   \n",
      "3  ...                0           4.85  dD0gZpBctWGdWo9WlGuhlA   \n",
      "4  ...                0           4.08  MM4RJAeH6yuaN8oZDSt0RA   \n",
      "\n",
      "   compliment_more                elite  compliment_hot cool    name  \\\n",
      "0                0       2015,2016,2017               2   25  Rashmi   \n",
      "1                0                  NaN               1   16   Jenna   \n",
      "2                0                  NaN               0   10   David   \n",
      "3                0                  NaN               1   14  Angela   \n",
      "4                1  2015,2016,2017,2018              28  665   Nancy   \n",
      "\n",
      "   compliment_profile compliment_cool  \n",
      "0                   0               1  \n",
      "1                   0               1  \n",
      "2                   0               0  \n",
      "3                   0               0  \n",
      "4                   0              80  \n",
      "\n",
      "[5 rows x 22 columns]\n"
     ]
    }
   ],
   "source": [
    "user_data=pd.read_csv(path+'user.csv')\n",
    "\n",
    "print(user_data.head(5))"
   ]
  },
  {
   "cell_type": "markdown",
   "metadata": {},
   "source": [
    "<h1> Photo Data </h1>"
   ]
  },
  {
   "cell_type": "code",
   "execution_count": 4,
   "metadata": {},
   "outputs": [
    {
     "name": "stdout",
     "output_type": "stream",
     "text": [
      "                 photo_id             business_id   label caption\n",
      "0  MllA1nNpcp1kDteVg6OGUw  rcaPajgKOJC2vo_l3xa42A  inside     NaN\n",
      "1  YjxBE88Bf6CmTEF2LP1UNA  Kn23LDd740SBVJ7mum0fwg  inside     NaN\n",
      "2  1f7izSjM0WjkDRIVbPy1yw  ZkGDCVKSdf8m76cnnalL-A    food     NaN\n",
      "3  NcSlcDTEEeOaixotOPk-rA  bF8gv7k_rwZtiDLP2ZB04w  inside     NaN\n",
      "4  5IiIo5UKEW0lWqZ6sWrY_A  50Anorn0DJXFhBr9a9_gHQ  inside     NaN\n"
     ]
    }
   ],
   "source": [
    "\n",
    "photo_data=pd.read_csv(path+'photo.csv')\n",
    "\n",
    "print(photo_data.head(5))"
   ]
  },
  {
   "cell_type": "markdown",
   "metadata": {},
   "source": [
    "<h1> Tip Data </h1>"
   ]
  },
  {
   "cell_type": "code",
   "execution_count": 5,
   "metadata": {},
   "outputs": [
    {
     "name": "stdout",
     "output_type": "stream",
     "text": [
      "              business_id  compliment_count                 date  \\\n",
      "0  VaKXUpmWTTWDKbpJ3aQdMw                 0  2014-03-27 03:51:24   \n",
      "1  OPiPeoJiv92rENwbq76orA                 0  2013-05-25 06:00:56   \n",
      "2  5KheTjYPu1HcQzQFtm4_vw                 0  2011-12-26 01:46:17   \n",
      "3  TkoyGi8J7YFjA6SbaRzrxg                 0  2014-03-23 21:32:49   \n",
      "4  AkL6Ous6A1atZejfZXn1Bg                 0  2012-10-06 00:19:27   \n",
      "\n",
      "                                                text                 user_id  \n",
      "0  Great for watching games, ufc, and whatever el...  UPw5DWs_b-e2JRBS-t37Ag  \n",
      "1  Happy Hour 2-4 daily with 1/2 price drinks and...  Ocha4kZBHb4JK0lOWvE0sg  \n",
      "2  Good chips and salsa. Loud at times. Good serv...  jRyO2V1pA4CdVVqCIOPc1Q  \n",
      "3  The setting and decoration here is amazing. Co...  FuTJWFYm4UKqewaosss1KA  \n",
      "4  Molly is definately taking a picture with Sant...  LUlKtaM3nXd-E4N4uOk_fQ  \n"
     ]
    }
   ],
   "source": [
    "\n",
    "tip_data=pd.read_csv(path+'tip.csv')\n",
    "\n",
    "print(tip_data.head(5))"
   ]
  },
  {
   "cell_type": "markdown",
   "metadata": {},
   "source": [
    "<h1> Checkin Data </h1>"
   ]
  },
  {
   "cell_type": "code",
   "execution_count": 6,
   "metadata": {},
   "outputs": [
    {
     "name": "stdout",
     "output_type": "stream",
     "text": [
      "                                                date             business_id\n",
      "0  2016-04-26 19:49:16, 2016-08-30 18:36:57, 2016...  --1UhMGODdWsrMastO9DZw\n",
      "1  2011-06-04 18:22:23, 2011-07-23 23:51:33, 2012...  --6MefnULPED_I942VcFNA\n"
     ]
    }
   ],
   "source": [
    "checkin_data=pd.read_csv(path+'checkin.csv')\n",
    "\n",
    "print(checkin_data.head(2))"
   ]
  },
  {
   "cell_type": "markdown",
   "metadata": {},
   "source": [
    "<h1> Review Data </h1>"
   ]
  },
  {
   "cell_type": "code",
   "execution_count": 7,
   "metadata": {},
   "outputs": [
    {
     "name": "stdout",
     "output_type": "stream",
     "text": [
      "              business_id  cool                 date  funny  \\\n",
      "0  ujmEBvifdJM6h6RLv4wQIg     0  2013-05-07 04:34:36    1.0   \n",
      "1  NZnhc2sEQy3RmzKTZnqtwQ     0  2017-01-14 21:30:33    0.0   \n",
      "\n",
      "                review_id  stars  \\\n",
      "0  Q1sbwvVQXV2734tPgoKj4Q    1.0   \n",
      "1  GJXCdrto3ASJOqKeVWPi6Q    5.0   \n",
      "\n",
      "                                                text  useful  \\\n",
      "0  Total bill for this horrible service? Over $8G...     6.0   \n",
      "1  I *adore* Travis at the Hard Rock's new Kelly ...     0.0   \n",
      "\n",
      "                  user_id  \n",
      "0  hG7b0MtEbXx5QzbzE6C_VA  \n",
      "1  yXQM5uF2jS6es16SJzNHfg  \n"
     ]
    }
   ],
   "source": [
    "review_data=pd.read_csv(path+'review.csv')\n",
    "\n",
    "print(review_data.head(2))"
   ]
  },
  {
   "cell_type": "code",
   "execution_count": null,
   "metadata": {},
   "outputs": [],
   "source": []
  }
 ],
 "metadata": {
  "kernelspec": {
   "display_name": "Python 3",
   "language": "python",
   "name": "python3"
  },
  "language_info": {
   "codemirror_mode": {
    "name": "ipython",
    "version": 3
   },
   "file_extension": ".py",
   "mimetype": "text/x-python",
   "name": "python",
   "nbconvert_exporter": "python",
   "pygments_lexer": "ipython3",
   "version": "3.7.4"
  }
 },
 "nbformat": 4,
 "nbformat_minor": 2
}
