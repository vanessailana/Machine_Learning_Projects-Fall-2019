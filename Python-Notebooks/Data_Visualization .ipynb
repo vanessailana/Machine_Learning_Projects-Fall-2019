{
 "cells": [
  {
   "cell_type": "markdown",
   "metadata": {},
   "source": [
    "<h3> What is Yelp? Yelp is an application that allows users to give reviews on businesses, get recommendations, etc. In this python notebook we will be doing an exploration of the data set to get a better feature of the attributes we are dealing with. </h3>"
   ]
  },
  {
   "cell_type": "markdown",
   "metadata": {},
   "source": [
    "<h1> Business Table </h1>"
   ]
  },
  {
   "cell_type": "code",
   "execution_count": null,
   "metadata": {},
   "outputs": [],
   "source": [
    "import pandas as pd\n",
    "import seaborn as sns\n",
    "import pandas as pd \n",
    "import os\n",
    "import matplotlib.pyplot as plt\n",
    "import json\n",
    "from collections import Counter\n",
    "import numpy as np\n",
    "\n",
    "#global variable\n",
    "path='../Data/s'\n",
    "business = pd.read_json('../Data/business.json',lines=True,orient='columns')\n",
    "business = business[business.is_open == 1]\n",
    "business = business[business.state=='AZ']\n",
    "business = business[business.postal_code !='']\n",
    "business.drop(columns = ['address','is_open'], inplace = True)\n",
    "\n",
    "#count state with most businesses in U.S \n",
    "dfout = business['state'].value_counts()\n",
    "\n",
    "#dfout.plot(kind='bar',figsize=(50,6))\n"
   ]
  },
  {
   "cell_type": "markdown",
   "metadata": {},
   "source": [
    "<h2> Star Distribution </h2>"
   ]
  },
  {
   "cell_type": "code",
   "execution_count": null,
   "metadata": {},
   "outputs": [],
   "source": [
    "star_distribution=business['stars'].value_counts();\n",
    "star_distribution.plot(kind='bar',figsize=(15,3))"
   ]
  },
  {
   "cell_type": "markdown",
   "metadata": {},
   "source": [
    "<h2> Review Distribution </h2>"
   ]
  },
  {
   "cell_type": "code",
   "execution_count": null,
   "metadata": {
    "scrolled": true
   },
   "outputs": [],
   "source": [
    "print(\"Review Count Distribution \")\n",
    "\n",
    "business['review_count'].value_counts().hist(range=[1,100])\n",
    "\n",
    "review_count=business['review_count'].value_counts()\n",
    "\n",
    "data=pd.DataFrame(review_count)\n",
    "\n",
    "data.mean()\n",
    "\n",
    "\n"
   ]
  },
  {
   "cell_type": "markdown",
   "metadata": {},
   "source": [
    "<h2> Category Distribution </h2>"
   ]
  },
  {
   "cell_type": "code",
   "execution_count": null,
   "metadata": {},
   "outputs": [],
   "source": [
    "from matplotlib.colors import Normalize\n",
    "import matplotlib.cm as cm\n",
    "\n",
    "business[business.categories!='']\n",
    "business[business.attributes!='']\n",
    "business[business.attributes!=0]\n",
    "\n",
    "\n",
    "all_business_categories =business['categories'].values;\n",
    "for color in ['r', 'b', 'g', 'k', 'm']:\n",
    "    pd.Series(all_business_categories).value_counts()[:50].plot(kind='bar',figsize=(20,3),color=color)"
   ]
  },
  {
   "cell_type": "markdown",
   "metadata": {},
   "source": [
    "<h2> Looking at the attributes </h2>"
   ]
  },
  {
   "cell_type": "code",
   "execution_count": null,
   "metadata": {},
   "outputs": [],
   "source": [
    "business_df = pd.DataFrame.from_dict(business)\n",
    "business_df.head()\n",
    "business_df=business_df.join(pd.DataFrame(business_df['attributes'].to_dict()).T)\n",
    "#\n",
    "print(business_df.head())"
   ]
  },
  {
   "cell_type": "markdown",
   "metadata": {},
   "source": [
    "<h1> Looking at the Checkin Table </h1>"
   ]
  },
  {
   "cell_type": "code",
   "execution_count": null,
   "metadata": {
    "scrolled": false
   },
   "outputs": [],
   "source": [
    "checkin = pd.read_json('../Data/checkin.json',lines=True,orient='columns')\n",
    "stuff=pd.merge(business, checkin, on='business_id')\n",
    "\n",
    "#getting biz  date\n",
    "\n",
    "checkin_dates=stuff['date'].values;\n",
    "pd.Series(checkin_dates).value_counts()[:25].plot(kind='bar',figsize=(20,3))"
   ]
  },
  {
   "cell_type": "markdown",
   "metadata": {},
   "source": [
    "<h1> Looking at the Photo  Table </h1>"
   ]
  },
  {
   "cell_type": "code",
   "execution_count": null,
   "metadata": {},
   "outputs": [],
   "source": [
    "checkin = pd.read_json('../Data/photo.json',lines=True,orient='columns')\n",
    "stuff=pd.merge(business, checkin, on='business_id')\n",
    "\n",
    "\n",
    "photo_labels=stuff['label'].value_counts();\n",
    "\n",
    "photo_labels.plot(kind='bar',figsize=(15,3))"
   ]
  },
  {
   "cell_type": "code",
   "execution_count": null,
   "metadata": {},
   "outputs": [],
   "source": []
  }
 ],
 "metadata": {
  "kernelspec": {
   "display_name": "Python 3",
   "language": "python",
   "name": "python3"
  },
  "language_info": {
   "codemirror_mode": {
    "name": "ipython",
    "version": 3
   },
   "file_extension": ".py",
   "mimetype": "text/x-python",
   "name": "python",
   "nbconvert_exporter": "python",
   "pygments_lexer": "ipython3",
   "version": "3.7.4"
  }
 },
 "nbformat": 4,
 "nbformat_minor": 2
}
