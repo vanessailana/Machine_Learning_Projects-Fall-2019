{
 "cells": [
  {
   "cell_type": "code",
   "execution_count": 2,
   "metadata": {},
   "outputs": [
    {
     "data": {
      "text/plain": [
       "<matplotlib.axes._subplots.AxesSubplot at 0x117fb7190>"
      ]
     },
     "execution_count": 2,
     "metadata": {},
     "output_type": "execute_result"
    },
    {
     "data": {
      "image/png": "[encoded data removed]",
      "text/plain": [
       "<Figure size 1440x216 with 1 Axes>"
      ]
     },
     "metadata": {
      "needs_background": "light"
     },
     "output_type": "display_data"
    }
   ],
   "source": [
    "import pandas as pd \n",
    "import numpy as np\n",
    "\n",
    "\n",
    "\n",
    "\n",
    "business = pd.read_json('../Data/business.json',lines=True,orient='columns')\n",
    "business = business[business.is_open == 1]\n",
    "business = business[business.state=='AZ']\n",
    "business = business[business.postal_code !='']\n",
    "business.drop(columns = ['address','is_open'], inplace = True)\n",
    "\n",
    "#count state with most businesses in U.S \n",
    "dfout = business['state'].value_counts()\n",
    "\n",
    "tips= pd.read_json('../Data/tip.json',lines=True,orient='columns')\n",
    "\n",
    "\n",
    "\n",
    "stuff=pd.merge(business, tips, on='business_id')\n",
    "\n",
    "\n",
    "compliment_count=stuff['compliment_count'].values;\n",
    "pd.Series(compliment_count).value_counts()[:25].plot(kind='bar',figsize=(20,3))\n"
   ]
  },
  {
   "cell_type": "code",
   "execution_count": null,
   "metadata": {},
   "outputs": [],
   "source": [
    "\n"
   ]
  }
 ],
 "metadata": {
  "kernelspec": {
   "display_name": "Python 3",
   "language": "python",
   "name": "python3"
  },
  "language_info": {
   "codemirror_mode": {
    "name": "ipython",
    "version": 3
   },
   "file_extension": ".py",
   "mimetype": "text/x-python",
   "name": "python",
   "nbconvert_exporter": "python",
   "pygments_lexer": "ipython3",
   "version": "3.7.4"
  }
 },
 "nbformat": 4,
 "nbformat_minor": 2
}
