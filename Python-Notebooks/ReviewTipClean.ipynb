{
 "cells": [
  {
   "cell_type": "code",
   "execution_count": 1,
   "metadata": {},
   "outputs": [
    {
     "name": "stdout",
     "output_type": "stream",
     "text": [
      "              business_id  cool                 date  funny  \\\n",
      "0  ujmEBvifdJM6h6RLv4wQIg     0  2013-05-07 04:34:36    1.0   \n",
      "1  NZnhc2sEQy3RmzKTZnqtwQ     0  2017-01-14 21:30:33    0.0   \n",
      "2  WTqjgwHlXbSFevF32_DJVw     0  2016-11-09 20:09:03    0.0   \n",
      "3  ikCg8xy5JIg_NGPx-MSIDA     0  2018-01-09 20:56:38    0.0   \n",
      "4  b1b1eb3uo-w561D0ZfCEiQ     0  2018-01-30 23:07:38    0.0   \n",
      "\n",
      "                review_id  stars  \\\n",
      "0  Q1sbwvVQXV2734tPgoKj4Q    1.0   \n",
      "1  GJXCdrto3ASJOqKeVWPi6Q    5.0   \n",
      "2  2TzJjDVDEuAW6MR5Vuc1ug    5.0   \n",
      "3  yi0R0Ugj_xUx_Nek0-_Qig    5.0   \n",
      "4  11a8sVPMUFtaC7_ABRkmtw    1.0   \n",
      "\n",
      "                                                text  useful  \\\n",
      "0  Total bill for this horrible service? Over $8G...     6.0   \n",
      "1  I *adore* Travis at the Hard Rock's new Kelly ...     0.0   \n",
      "2  I have to say that this office really has it t...     3.0   \n",
      "3  Went in for a lunch. Steak sandwich was delici...     0.0   \n",
      "4  Today was my second out of three sessions I ha...     7.0   \n",
      "\n",
      "                  user_id  \n",
      "0  hG7b0MtEbXx5QzbzE6C_VA  \n",
      "1  yXQM5uF2jS6es16SJzNHfg  \n",
      "2  n6-Gk65cPZL6Uz8qRm3NYw  \n",
      "3  dacAIZ6fTM6mqwW5uxkskg  \n",
      "4  ssoyf2_x0EQMed6fgHeMyQ  \n"
     ]
    }
   ],
   "source": [
    "import pandas as pd\n",
    "reviews = pd.read_csv('../Data/review.csv')\n",
    "print(reviews.head())"
   ]
  },
  {
   "cell_type": "code",
   "execution_count": 2,
   "metadata": {},
   "outputs": [
    {
     "name": "stderr",
     "output_type": "stream",
     "text": [
      "/usr/local/Cellar/ipython/7.2.0/libexec/lib/python3.7/site-packages/IPython/core/interactiveshell.py:3020: DtypeWarning: Columns (11,14,15,24,25,35,38) have mixed types. Specify dtype option on import or set low_memory=False.\n",
      "  interactivity=interactivity, compiler=compiler, result=result)\n"
     ]
    }
   ],
   "source": [
    "\n",
    "checkin_dates=stuff['date'].values;\n",
    "pd.Series(checkin_dates).value_counts()[:25].plot(kind='bar',figsize=(20,3))\n",
    "business_data=business_clean[['business_id','name']]\n",
    "merge_data=reviews.merge(business_data, on='business_id')"
   ]
  },
  {
   "cell_type": "code",
   "execution_count": 3,
   "metadata": {},
   "outputs": [
    {
     "name": "stdout",
     "output_type": "stream",
     "text": [
      "              business_id  cool                 date  funny  \\\n",
      "0  b1b1eb3uo-w561D0ZfCEiQ     0  2018-01-30 23:07:38    0.0   \n",
      "1  b1b1eb3uo-w561D0ZfCEiQ     0  2018-01-30 23:07:38    0.0   \n",
      "2  b1b1eb3uo-w561D0ZfCEiQ     0  2018-01-30 23:07:38    0.0   \n",
      "3  b1b1eb3uo-w561D0ZfCEiQ     0  2018-01-30 23:07:38    0.0   \n",
      "4  b1b1eb3uo-w561D0ZfCEiQ     0  2018-01-30 23:07:38    0.0   \n",
      "\n",
      "                review_id  stars  \\\n",
      "0  11a8sVPMUFtaC7_ABRkmtw    1.0   \n",
      "1  11a8sVPMUFtaC7_ABRkmtw    1.0   \n",
      "2  11a8sVPMUFtaC7_ABRkmtw    1.0   \n",
      "3  11a8sVPMUFtaC7_ABRkmtw    1.0   \n",
      "4  11a8sVPMUFtaC7_ABRkmtw    1.0   \n",
      "\n",
      "                                                text  useful  \\\n",
      "0  Today was my second out of three sessions I ha...     7.0   \n",
      "1  Today was my second out of three sessions I ha...     7.0   \n",
      "2  Today was my second out of three sessions I ha...     7.0   \n",
      "3  Today was my second out of three sessions I ha...     7.0   \n",
      "4  Today was my second out of three sessions I ha...     7.0   \n",
      "\n",
      "                  user_id            name  \n",
      "0  ssoyf2_x0EQMed6fgHeMyQ  White Teeth AZ  \n",
      "1  ssoyf2_x0EQMed6fgHeMyQ  White Teeth AZ  \n",
      "2  ssoyf2_x0EQMed6fgHeMyQ  White Teeth AZ  \n",
      "3  ssoyf2_x0EQMed6fgHeMyQ  White Teeth AZ  \n",
      "4  ssoyf2_x0EQMed6fgHeMyQ  White Teeth AZ  \n"
     ]
    }
   ],
   "source": [
    "print(merge_data.head())"
   ]
  },
  {
   "cell_type": "code",
   "execution_count": null,
   "metadata": {},
   "outputs": [],
   "source": [
    "print(merge_data.columns)\n",
    "merge_data=merge_data.fillna(0.5).apply(pd.to_numeric,errors='ignore')\n"
   ]
  },
  {
   "cell_type": "code",
   "execution_count": null,
   "metadata": {},
   "outputs": [],
   "source": [
    "cool= merge_data['cool'].values;\n",
    "pd.Series(cool).value_counts()[:25].plot(kind='bar',figsize=(20,3))"
   ]
  },
  {
   "cell_type": "code",
   "execution_count": null,
   "metadata": {},
   "outputs": [],
   "source": []
  },
  {
   "cell_type": "code",
   "execution_count": null,
   "metadata": {},
   "outputs": [],
   "source": []
  }
 ],
 "metadata": {
  "kernelspec": {
   "display_name": "Python 3",
   "language": "python",
   "name": "python3"
  },
  "language_info": {
   "codemirror_mode": {
    "name": "ipython",
    "version": 3
   },
   "file_extension": ".py",
   "mimetype": "text/x-python",
   "name": "python",
   "nbconvert_exporter": "python",
   "pygments_lexer": "ipython3",
   "version": "3.7.4"
  }
 },
 "nbformat": 4,
 "nbformat_minor": 2
}
