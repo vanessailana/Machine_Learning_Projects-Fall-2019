{
 "cells": [
  {
   "cell_type": "code",
   "execution_count": 2,
   "metadata": {},
   "outputs": [
    {
     "name": "stdout",
     "output_type": "stream",
     "text": [
      "              business_id                 date               review_id  stars  \\\n",
      "0  ujmEBvifdJM6h6RLv4wQIg  2013-05-07 04:34:36  Q1sbwvVQXV2734tPgoKj4Q    1.0   \n",
      "1  NZnhc2sEQy3RmzKTZnqtwQ  2017-01-14 21:30:33  GJXCdrto3ASJOqKeVWPi6Q    5.0   \n",
      "2  WTqjgwHlXbSFevF32_DJVw  2016-11-09 20:09:03  2TzJjDVDEuAW6MR5Vuc1ug    5.0   \n",
      "3  ikCg8xy5JIg_NGPx-MSIDA  2018-01-09 20:56:38  yi0R0Ugj_xUx_Nek0-_Qig    5.0   \n",
      "4  b1b1eb3uo-w561D0ZfCEiQ  2018-01-30 23:07:38  11a8sVPMUFtaC7_ABRkmtw    1.0   \n",
      "\n",
      "                                                text                 user_id  \n",
      "0  Total bill for this horrible service? Over $8G...  hG7b0MtEbXx5QzbzE6C_VA  \n",
      "1  I *adore* Travis at the Hard Rock's new Kelly ...  yXQM5uF2jS6es16SJzNHfg  \n",
      "2  I have to say that this office really has it t...  n6-Gk65cPZL6Uz8qRm3NYw  \n",
      "3  Went in for a lunch. Steak sandwich was delici...  dacAIZ6fTM6mqwW5uxkskg  \n",
      "4  Today was my second out of three sessions I ha...  ssoyf2_x0EQMed6fgHeMyQ  \n"
     ]
    }
   ],
   "source": [
    "import pandas as pd\n",
    "\n",
    "reviews = pd.read_csv('../Data/review.csv')\n",
    "del reviews['cool']\n",
    "del reviews['useful']\n",
    "del reviews['funny']\n",
    "print(reviews.head())"
   ]
  },
  {
   "cell_type": "code",
   "execution_count": 3,
   "metadata": {},
   "outputs": [
    {
     "name": "stdout",
     "output_type": "stream",
     "text": [
      "Index(['business_id', 'date', 'review_id', 'stars', 'text', 'user_id'], dtype='object')\n"
     ]
    }
   ],
   "source": [
    "print(reviews.columns)"
   ]
  },
  {
   "cell_type": "code",
   "execution_count": null,
   "metadata": {},
   "outputs": [],
   "source": [
    "\n",
    "date=reviews['date'].values;\n",
    "pd.Series(date).value_counts()[:25].plot(kind='bar',figsize=(20,3))"
   ]
  },
  {
   "cell_type": "code",
   "execution_count": null,
   "metadata": {},
   "outputs": [],
   "source": [
    "\n",
    "cool=reviews['cool'].values;\n",
    "pd.Series(cool).value_counts()[:25].plot(kind='bar',figsize=(20,3))"
   ]
  },
  {
   "cell_type": "code",
   "execution_count": null,
   "metadata": {},
   "outputs": [],
   "source": [
    "\n",
    "funny=reviews['funny'].values;\n",
    "pd.Series(funny).value_counts()[:25].plot(kind='bar',figsize=(20,3))"
   ]
  },
  {
   "cell_type": "code",
   "execution_count": null,
   "metadata": {},
   "outputs": [],
   "source": [
    "\n",
    "useful=reviews['useful'].values;\n",
    "pd.Series(useful).value_counts()[:25].plot(kind='bar',figsize=(20,3))"
   ]
  },
  {
   "cell_type": "code",
   "execution_count": null,
   "metadata": {},
   "outputs": [],
   "source": [
    "star_distribution=reviews['stars'].value_counts();\n",
    "star_distribution.plot(kind='bar',figsize=(15,3))"
   ]
  },
  {
   "cell_type": "code",
   "execution_count": null,
   "metadata": {},
   "outputs": [],
   "source": [
    "import re \n",
    "from nltk.stem import PorterStemmer\n",
    "from nltk import word_tokenize, sent_tokenize\n",
    "from nltk.corpus import stopwords\n",
    "\n",
    "\n",
    "cleaned_reviews=reviews['text'].str.replace(r'[^\\w\\s]', '').str.lower()\n",
    "#phrases = reviews.apply(sent_tokenize)\n",
    "print(cleaned_reviews.head())"
   ]
  },
  {
   "cell_type": "code",
   "execution_count": null,
   "metadata": {},
   "outputs": [],
   "source": [
    "print(phrases.head())"
   ]
  },
  {
   "cell_type": "code",
   "execution_count": null,
   "metadata": {},
   "outputs": [],
   "source": []
  },
  {
   "cell_type": "code",
   "execution_count": null,
   "metadata": {},
   "outputs": [],
   "source": []
  }
 ],
 "metadata": {
  "kernelspec": {
   "display_name": "Python 3",
   "language": "python",
   "name": "python3"
  },
  "language_info": {
   "codemirror_mode": {
    "name": "ipython",
    "version": 3
   },
   "file_extension": ".py",
   "mimetype": "text/x-python",
   "name": "python",
   "nbconvert_exporter": "python",
   "pygments_lexer": "ipython3",
   "version": "3.7.4"
  }
 },
 "nbformat": 4,
 "nbformat_minor": 2
}
