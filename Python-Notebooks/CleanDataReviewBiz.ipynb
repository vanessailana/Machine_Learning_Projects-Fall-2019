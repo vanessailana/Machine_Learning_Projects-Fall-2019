{
 "cells": [
  {
   "cell_type": "code",
   "execution_count": 12,
   "metadata": {},
   "outputs": [
    {
     "name": "stdout",
     "output_type": "stream",
     "text": [
      "              business_id  compliment_count                 date  \\\n",
      "0  VaKXUpmWTTWDKbpJ3aQdMw                 0  2014-03-27 03:51:24   \n",
      "1  OPiPeoJiv92rENwbq76orA                 0  2013-05-25 06:00:56   \n",
      "2  5KheTjYPu1HcQzQFtm4_vw                 0  2011-12-26 01:46:17   \n",
      "3  TkoyGi8J7YFjA6SbaRzrxg                 0  2014-03-23 21:32:49   \n",
      "4  AkL6Ous6A1atZejfZXn1Bg                 0  2012-10-06 00:19:27   \n",
      "\n",
      "                                                text                 user_id  \n",
      "0  Great for watching games, ufc, and whatever el...  UPw5DWs_b-e2JRBS-t37Ag  \n",
      "1  Happy Hour 2-4 daily with 1/2 price drinks and...  Ocha4kZBHb4JK0lOWvE0sg  \n",
      "2  Good chips and salsa. Loud at times. Good serv...  jRyO2V1pA4CdVVqCIOPc1Q  \n",
      "3  The setting and decoration here is amazing. Co...  FuTJWFYm4UKqewaosss1KA  \n",
      "4  Molly is definately taking a picture with Sant...  LUlKtaM3nXd-E4N4uOk_fQ  \n"
     ]
    }
   ],
   "source": [
    "import pandas as pd\n",
    "tips = pd.read_csv('../Data/tip.csv')\n",
    "print(tips.head())\n",
    "del tips['compliment_count']"
   ]
  },
  {
   "cell_type": "code",
   "execution_count": 13,
   "metadata": {},
   "outputs": [],
   "source": [
    "import pandas as pd \n",
    "import json\n",
    "import re \n",
    "from nltk.stem import PorterStemmer\n",
    "from nltk import word_tokenize, sent_tokenize\n",
    "from nltk.corpus import stopwords"
   ]
  },
  {
   "cell_type": "code",
   "execution_count": 14,
   "metadata": {},
   "outputs": [],
   "source": [
    "business_clean=pd.read_csv('business_clean.csv')\n",
    "merge_data=tips.merge(business_clean, on='business_id')"
   ]
  },
  {
   "cell_type": "code",
   "execution_count": 15,
   "metadata": {},
   "outputs": [],
   "source": [
    "stop = stopwords.words('english')\n",
    "cleaned_tips=merge_data['text'].str.replace(r'[^\\w\\s]', '').str.lower()\n",
    "phrases = cleaned_tips.apply(sent_tokenize)\n"
   ]
  },
  {
   "cell_type": "code",
   "execution_count": 19,
   "metadata": {},
   "outputs": [
    {
     "name": "stdout",
     "output_type": "stream",
     "text": [
      "0    [good chips and salsa loud at times good servi...\n",
      "1                          [queso fundido is the best]\n",
      "2    [fyi the green chilis are spicy i dont mind a ...\n",
      "3    [this therapist is cheap 99cent margaritas eve...\n",
      "4                         [really great refried beans]\n",
      "Name: text, dtype: object\n"
     ]
    }
   ],
   "source": [
    "cleaned_tips=merge_data['text'].str.replace(r'[^\\w\\s]', '').str.lower()\n",
    "phrases = cleaned_tips.apply(sent_tokenize)\n",
    "\n",
    "print(phrases.head())"
   ]
  },
  {
   "cell_type": "code",
   "execution_count": 20,
   "metadata": {},
   "outputs": [],
   "source": [
    "merge_data['cleaned_tips']=phrases"
   ]
  },
  {
   "cell_type": "code",
   "execution_count": 21,
   "metadata": {},
   "outputs": [],
   "source": [
    "del merge_data['text']\n"
   ]
  },
  {
   "cell_type": "code",
   "execution_count": 22,
   "metadata": {},
   "outputs": [
    {
     "name": "stdout",
     "output_type": "stream",
     "text": [
      "              business_id                 date                 user_id  \\\n",
      "0  5KheTjYPu1HcQzQFtm4_vw  2011-12-26 01:46:17  jRyO2V1pA4CdVVqCIOPc1Q   \n",
      "1  5KheTjYPu1HcQzQFtm4_vw  2010-09-26 02:05:03  grQ3v_hGwyf7MfjAcpx-qg   \n",
      "2  5KheTjYPu1HcQzQFtm4_vw  2013-12-13 07:24:47  ISNbZn_lBKP7w1aGGaVyvw   \n",
      "3  5KheTjYPu1HcQzQFtm4_vw  2012-03-29 22:15:28  JiaJJzXFc6vBPke9v_V9Uw   \n",
      "4  5KheTjYPu1HcQzQFtm4_vw  2012-08-09 23:06:14  d6cLvMTHXdxhAXTdcjuNxQ   \n",
      "\n",
      "   Unnamed: 0                                         categories     city  \\\n",
      "0       64070  Mexican, Restaurants, Bars, Nightlife, Breakfa...  Phoenix   \n",
      "1       64070  Mexican, Restaurants, Bars, Nightlife, Breakfa...  Phoenix   \n",
      "2       64070  Mexican, Restaurants, Bars, Nightlife, Breakfa...  Phoenix   \n",
      "3       64070  Mexican, Restaurants, Bars, Nightlife, Breakfa...  Phoenix   \n",
      "4       64070  Mexican, Restaurants, Bars, Nightlife, Breakfa...  Phoenix   \n",
      "\n",
      "                   name  review_count  stars state  ...  \\\n",
      "0  Arriba Mexican Grill           285    3.5    AZ  ...   \n",
      "1  Arriba Mexican Grill           285    3.5    AZ  ...   \n",
      "2  Arriba Mexican Grill           285    3.5    AZ  ...   \n",
      "3  Arriba Mexican Grill           285    3.5    AZ  ...   \n",
      "4  Arriba Mexican Grill           285    3.5    AZ  ...   \n",
      "\n",
      "  RestaurantsReservations RestaurantsTableService RestaurantsTakeOut Smoking  \\\n",
      "0                    True                    True               True       0   \n",
      "1                    True                    True               True       0   \n",
      "2                    True                    True               True       0   \n",
      "3                    True                    True               True       0   \n",
      "4                    True                    True               True       0   \n",
      "\n",
      "  WheelchairAccessible WiFi_'no' WiFi_u'free' WiFi_u'no' WiFi_u'paid'  \\\n",
      "0                    0         0            0          1            0   \n",
      "1                    0         0            0          1            0   \n",
      "2                    0         0            0          1            0   \n",
      "3                    0         0            0          1            0   \n",
      "4                    0         0            0          1            0   \n",
      "\n",
      "                                        cleaned_tips  \n",
      "0  [good chips and salsa loud at times good servi...  \n",
      "1                        [queso fundido is the best]  \n",
      "2  [fyi the green chilis are spicy i dont mind a ...  \n",
      "3  [this therapist is cheap 99cent margaritas eve...  \n",
      "4                       [really great refried beans]  \n",
      "\n",
      "[5 rows x 51 columns]\n"
     ]
    }
   ],
   "source": [
    "print(merge_data.head())"
   ]
  },
  {
   "cell_type": "code",
   "execution_count": 23,
   "metadata": {},
   "outputs": [],
   "source": [
    "merge_data.to_csv('cleaned_business_tips.csv')"
   ]
  },
  {
   "cell_type": "code",
   "execution_count": null,
   "metadata": {},
   "outputs": [],
   "source": []
  }
 ],
 "metadata": {
  "kernelspec": {
   "display_name": "Python 3",
   "language": "python",
   "name": "python3"
  },
  "language_info": {
   "codemirror_mode": {
    "name": "ipython",
    "version": 3
   },
   "file_extension": ".py",
   "mimetype": "text/x-python",
   "name": "python",
   "nbconvert_exporter": "python",
   "pygments_lexer": "ipython3",
   "version": "3.7.4"
  }
 },
 "nbformat": 4,
 "nbformat_minor": 2
}
