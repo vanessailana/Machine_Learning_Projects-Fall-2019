{
 "cells": [
  {
   "cell_type": "code",
   "execution_count": 11,
   "metadata": {},
   "outputs": [],
   "source": [
    "import pandas as pd \n",
    "import os \n",
    "\n",
    "#global variable\n",
    "path='../Data/'\n"
   ]
  },
  {
   "cell_type": "markdown",
   "metadata": {},
   "source": [
    "<h1> Business Data </h1>"
   ]
  },
  {
   "cell_type": "code",
   "execution_count": 12,
   "metadata": {},
   "outputs": [
    {
     "name": "stdout",
     "output_type": "stream",
     "text": [
      "                          address  attributes attributes_AcceptsInsurance  \\\n",
      "0     2818 E Camino Acequia Drive         NaN                         NaN   \n",
      "1            30 Eglinton Avenue W         NaN                         NaN   \n",
      "2       10110 Johnston Rd, Ste 15         NaN                         NaN   \n",
      "3   15655 W Roosevelt St, Ste 237         NaN                         NaN   \n",
      "4  4209 Stuart Andrew Blvd, Ste F         NaN                         NaN   \n",
      "\n",
      "  attributes_AgesAllowed attributes_Alcohol  \\\n",
      "0                    NaN                NaN   \n",
      "1                    NaN        u'full_bar'   \n",
      "2                    NaN   u'beer_and_wine'   \n",
      "3                    NaN                NaN   \n",
      "4                    NaN                NaN   \n",
      "\n",
      "                                 attributes_Ambience attributes_BYOB  \\\n",
      "0                                                NaN             NaN   \n",
      "1  {'romantic': False, 'intimate': False, 'classy...             NaN   \n",
      "2  {'romantic': False, 'intimate': False, 'touris...             NaN   \n",
      "3                                                NaN             NaN   \n",
      "4                                                NaN             NaN   \n",
      "\n",
      "  attributes_BYOBCorkage attributes_BestNights attributes_BikeParking  ...  \\\n",
      "0                    NaN                   NaN                    NaN  ...   \n",
      "1                    NaN                   NaN                  False  ...   \n",
      "2                    NaN                   NaN                   True  ...   \n",
      "3                    NaN                   NaN                    NaN  ...   \n",
      "4                    NaN                   NaN                    NaN  ...   \n",
      "\n",
      "  hours_Tuesday hours_Wednesday is_open   latitude   longitude  \\\n",
      "0           NaN             NaN       0  33.522143 -112.018481   \n",
      "1       9:0-0:0         9:0-0:0       1  43.605499  -79.652289   \n",
      "2           NaN     17:30-21:30       1  35.092564  -80.859132   \n",
      "3      8:0-17:0        8:0-17:0       1  33.455613 -112.395596   \n",
      "4      7:0-23:0        7:0-23:0       1  35.190012  -80.887223   \n",
      "\n",
      "                              name postal_code review_count stars state  \n",
      "0       Arizona Biltmore Golf Club       85016            5   3.0    AZ  \n",
      "1       Emerald Chinese Restaurant     L5R 3E7          128   2.5    ON  \n",
      "2      Musashi Japanese Restaurant       28210          170   4.0    NC  \n",
      "3  Farmers Insurance - Paul Lorenz       85338            3   5.0    AZ  \n",
      "4              Queen City Plumbing       28217            4   4.0    NC  \n",
      "\n",
      "[5 rows x 60 columns]\n"
     ]
    },
    {
     "name": "stderr",
     "output_type": "stream",
     "text": [
      "/usr/local/Cellar/ipython/7.2.0/libexec/lib/python3.7/site-packages/IPython/core/interactiveshell.py:3020: DtypeWarning: Columns (6,28,31) have mixed types. Specify dtype option on import or set low_memory=False.\n",
      "  interactivity=interactivity, compiler=compiler, result=result)\n"
     ]
    }
   ],
   "source": [
    "business_data=pd.read_csv(path+'business.csv')\n",
    "print(business_data.head(5))\n",
    "\n"
   ]
  },
  {
   "cell_type": "markdown",
   "metadata": {},
   "source": [
    "<h1> User Data </h1>"
   ]
  },
  {
   "cell_type": "code",
   "execution_count": null,
   "metadata": {},
   "outputs": [],
   "source": [
    "user_data=pd.read_csv(path+'user.csv')\n",
    "\n",
    "print(user_data.head(5))"
   ]
  },
  {
   "cell_type": "markdown",
   "metadata": {},
   "source": [
    "<h1> Photo Data </h1>"
   ]
  },
  {
   "cell_type": "code",
   "execution_count": null,
   "metadata": {},
   "outputs": [],
   "source": [
    "\n",
    "photo_data=pd.read_csv(path+'photo.csv')\n",
    "\n",
    "print(photo_data.head(5))"
   ]
  },
  {
   "cell_type": "markdown",
   "metadata": {},
   "source": [
    "<h1> Tip Data </h1>"
   ]
  },
  {
   "cell_type": "code",
   "execution_count": null,
   "metadata": {},
   "outputs": [],
   "source": [
    "\n",
    "tip_data=pd.read_csv(path+'tip.csv')\n",
    "\n",
    "print(tip_data.head(5))"
   ]
  },
  {
   "cell_type": "markdown",
   "metadata": {},
   "source": [
    "<h1> Checkin Data </h1>"
   ]
  },
  {
   "cell_type": "code",
   "execution_count": null,
   "metadata": {},
   "outputs": [],
   "source": [
    "checkin_data=pd.read_csv('checkin.csv')\n",
    "\n",
    "print(checkin_data.head(2))"
   ]
  },
  {
   "cell_type": "markdown",
   "metadata": {},
   "source": [
    "<h1> Review Data </h1>"
   ]
  },
  {
   "cell_type": "code",
   "execution_count": null,
   "metadata": {},
   "outputs": [],
   "source": [
    "review_data=pd.read_csv(path+'review.csv')\n",
    "\n",
    "print(review_data.head(2))"
   ]
  },
  {
   "cell_type": "code",
   "execution_count": null,
   "metadata": {},
   "outputs": [],
   "source": []
  }
 ],
 "metadata": {
  "kernelspec": {
   "display_name": "Python 3",
   "language": "python",
   "name": "python3"
  },
  "language_info": {
   "codemirror_mode": {
    "name": "ipython",
    "version": 3
   },
   "file_extension": ".py",
   "mimetype": "text/x-python",
   "name": "python",
   "nbconvert_exporter": "python",
   "pygments_lexer": "ipython3",
   "version": "3.7.4"
  }
 },
 "nbformat": 4,
 "nbformat_minor": 2
}
